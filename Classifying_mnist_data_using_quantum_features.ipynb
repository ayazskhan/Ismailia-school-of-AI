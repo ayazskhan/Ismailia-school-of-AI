{
  "nbformat": 4,
  "nbformat_minor": 0,
  "metadata": {
    "colab": {
      "name": "Classifying mnist data using quantum features.ipynb",
      "provenance": [],
      "collapsed_sections": [],
      "include_colab_link": true
    },
    "kernelspec": {
      "name": "python3",
      "display_name": "Python 3"
    },
    "accelerator": "GPU"
  },
  "cells": [
    {
      "cell_type": "markdown",
      "metadata": {
        "id": "view-in-github",
        "colab_type": "text"
      },
      "source": [
        "<a href=\"https://colab.research.google.com/github/kareem1925/Ismailia-school-of-AI/blob/master/Classifying_mnist_data_using_quantum_features.ipynb\" target=\"_parent\"><img src=\"https://colab.research.google.com/assets/colab-badge.svg\" alt=\"Open In Colab\"/></a>"
      ]
    },
    {
      "cell_type": "markdown",
      "metadata": {
        "id": "W_DTuhWgsJoo",
        "colab_type": "text"
      },
      "source": [
        "We will first install Qualcs plugin with GPU for Pennylane and then refresh the environment. "
      ]
    },
    {
      "cell_type": "code",
      "metadata": {
        "id": "-5zajCphfSmQ",
        "colab_type": "code",
        "outputId": "9b0fe901-7176-46cf-f1d4-a17bcbd718db",
        "colab": {
          "base_uri": "https://localhost:8080/",
          "height": 666
        }
      },
      "source": [
        "import os \n",
        "!pip install git+https://github.com/kareem1925/pennylane-qulacs@GPU_support\n",
        "os.kill(os.getpid(), 9)"
      ],
      "execution_count": 0,
      "outputs": [
        {
          "output_type": "stream",
          "text": [
            "Collecting git+https://github.com/kareem1925/pennylane-qulacs@GPU_support\n",
            "  Cloning https://github.com/kareem1925/pennylane-qulacs (to revision GPU_support) to /tmp/pip-req-build-clb7771c\n",
            "  Running command git clone -q https://github.com/kareem1925/pennylane-qulacs /tmp/pip-req-build-clb7771c\n",
            "  Running command git checkout -b GPU_support --track origin/GPU_support\n",
            "  Switched to a new branch 'GPU_support'\n",
            "  Branch 'GPU_support' set up to track remote branch 'GPU_support' from 'origin'.\n",
            "Collecting pennylane>=0.5.0\n",
            "\u001b[?25l  Downloading https://files.pythonhosted.org/packages/fa/2c/eada20029b81dbf9e1dce614f93b277449e2506284fef8450f038aadd5e1/PennyLane-0.8.0-py3-none-any.whl (195kB)\n",
            "\u001b[K     |████████████████████████████████| 204kB 9.4MB/s \n",
            "\u001b[?25hRequirement already satisfied: numpy in /usr/local/lib/python3.6/dist-packages (from pennylane-qulacs==0.0.4) (1.17.5)\n",
            "Requirement already satisfied: scipy in /usr/local/lib/python3.6/dist-packages (from pennylane-qulacs==0.0.4) (1.4.1)\n",
            "Collecting qulacs-gpu\n",
            "\u001b[?25l  Downloading https://files.pythonhosted.org/packages/d0/59/cb6505707bfc76a8d4a039dc779fc3de70a6b5428a4016423a5b072422f1/Qulacs-GPU-0.1.9.tar.gz (268kB)\n",
            "\u001b[K     |████████████████████████████████| 276kB 68.2MB/s \n",
            "\u001b[?25hCollecting toml\n",
            "  Downloading https://files.pythonhosted.org/packages/a2/12/ced7105d2de62fa7c8fb5fce92cc4ce66b57c95fb875e9318dba7f8c5db0/toml-0.10.0-py2.py3-none-any.whl\n",
            "Requirement already satisfied: autograd in /usr/local/lib/python3.6/dist-packages (from pennylane>=0.5.0->pennylane-qulacs==0.0.4) (1.3)\n",
            "Collecting appdirs\n",
            "  Downloading https://files.pythonhosted.org/packages/56/eb/810e700ed1349edde4cbdc1b2a21e28cdf115f9faf263f6bbf8447c1abf3/appdirs-1.4.3-py2.py3-none-any.whl\n",
            "Requirement already satisfied: networkx in /usr/local/lib/python3.6/dist-packages (from pennylane>=0.5.0->pennylane-qulacs==0.0.4) (2.4)\n",
            "Collecting semantic-version==2.6\n",
            "  Downloading https://files.pythonhosted.org/packages/28/be/3a7241d731ba89063780279a5433f5971c1cf41735b64a9f874b7c3ff995/semantic_version-2.6.0-py3-none-any.whl\n",
            "Requirement already satisfied: future>=0.15.2 in /usr/local/lib/python3.6/dist-packages (from autograd->pennylane>=0.5.0->pennylane-qulacs==0.0.4) (0.16.0)\n",
            "Requirement already satisfied: decorator>=4.3.0 in /usr/local/lib/python3.6/dist-packages (from networkx->pennylane>=0.5.0->pennylane-qulacs==0.0.4) (4.4.1)\n",
            "Building wheels for collected packages: pennylane-qulacs, qulacs-gpu\n",
            "  Building wheel for pennylane-qulacs (setup.py) ... \u001b[?25l\u001b[?25hdone\n",
            "  Created wheel for pennylane-qulacs: filename=pennylane_qulacs-0.0.4-cp36-none-any.whl size=4565 sha256=a19761f9c721e874da6a48eeda931d642fd6cd4e972eb89396f11682c41c42cf\n",
            "  Stored in directory: /tmp/pip-ephem-wheel-cache-eb9omc4u/wheels/93/58/04/19f31c7d05f27562d0941ae63f8c34e73620017d13840d4d00\n",
            "  Building wheel for qulacs-gpu (setup.py) ... \u001b[?25l\u001b[?25hdone\n",
            "  Created wheel for qulacs-gpu: filename=Qulacs_GPU-0.1.9-cp36-cp36m-linux_x86_64.whl size=843504 sha256=ad478d3e31973ec60d0475e83bf33a1f2ce037bcabce4e3162bef676ceeb52b4\n",
            "  Stored in directory: /root/.cache/pip/wheels/cb/57/aa/800e4bdd8dfc7514f5c5a15e58e232f26f5ca481063dd2a4ef\n",
            "Successfully built pennylane-qulacs qulacs-gpu\n",
            "Installing collected packages: toml, appdirs, semantic-version, pennylane, qulacs-gpu, pennylane-qulacs\n",
            "  Found existing installation: semantic-version 2.8.4\n",
            "    Uninstalling semantic-version-2.8.4:\n",
            "      Successfully uninstalled semantic-version-2.8.4\n",
            "Successfully installed appdirs-1.4.3 pennylane-0.8.0 pennylane-qulacs-0.0.4 qulacs-gpu-0.1.9 semantic-version-2.6.0 toml-0.10.0\n"
          ],
          "name": "stdout"
        }
      ]
    },
    {
      "cell_type": "markdown",
      "metadata": {
        "id": "Hi-CUinnsk1U",
        "colab_type": "text"
      },
      "source": [
        "Run the following command to make sure everything is working perfectly"
      ]
    },
    {
      "cell_type": "code",
      "metadata": {
        "id": "ZfhsYF95hgZv",
        "colab_type": "code",
        "outputId": "4cb37f7c-05a6-415f-e698-2701f762d84a",
        "colab": {
          "base_uri": "https://localhost:8080/",
          "height": 34
        }
      },
      "source": [
        "import qulacs\n",
        "qulacs.QuantumStateGpu"
      ],
      "execution_count": 1,
      "outputs": [
        {
          "output_type": "execute_result",
          "data": {
            "text/plain": [
              "qulacs.QuantumStateGpu"
            ]
          },
          "metadata": {
            "tags": []
          },
          "execution_count": 1
        }
      ]
    },
    {
      "cell_type": "code",
      "metadata": {
        "id": "IJqHjVDQsrb_",
        "colab_type": "code",
        "colab": {}
      },
      "source": [
        "from pennylane import numpy as np\n",
        "from sklearn.model_selection import train_test_split\n",
        "from sklearn.preprocessing import LabelEncoder,OneHotEncoder,normalize,LabelBinarizer\n",
        "from sklearn.utils import compute_sample_weight\n",
        "import pennylane as qml\n",
        "from sklearn.datasets import load_digits\n",
        "import warnings\n",
        "from sklearn.metrics import balanced_accuracy_score as acc\n",
        "from pennylane.optimize import AdamOptimizer,AdagradOptimizer\n",
        "\n",
        "np.seterr(all=\"ignore\")\n",
        "warnings.filterwarnings('ignore')"
      ],
      "execution_count": 0,
      "outputs": []
    },
    {
      "cell_type": "markdown",
      "metadata": {
        "id": "2Fw67B-ttf7w",
        "colab_type": "text"
      },
      "source": [
        "**Defining log loss function along with softmax and accuracy**"
      ]
    },
    {
      "cell_type": "code",
      "metadata": {
        "id": "HNpZ1AbZxuJU",
        "colab_type": "code",
        "colab": {}
      },
      "source": [
        "\n",
        "# this function is taken from scikit-learn code of meterics\n",
        "def log_loss(y_true, y_pred, eps=1e-15, normalize=True, sample_weight=None,\n",
        "             labels=None):\n",
        "    \n",
        "\n",
        "    lb = LabelBinarizer()\n",
        "\n",
        "    if labels is not None:\n",
        "        lb.fit(labels)\n",
        "    else:\n",
        "        lb.fit(y_true)\n",
        "\n",
        "    if len(lb.classes_) == 1:\n",
        "        if labels is None:\n",
        "            raise ValueError('y_true contains only one label ({0}). Please '\n",
        "                             'provide the true labels explicitly through the '\n",
        "                             'labels argument.'.format(lb.classes_[0]))\n",
        "        else:\n",
        "            raise ValueError('The labels array needs to contain at least two '\n",
        "                             'labels for log_loss, '\n",
        "                             'got {0}.'.format(lb.classes_))\n",
        "\n",
        "    transformed_labels = lb.transform(y_true)\n",
        "\n",
        "    if transformed_labels.shape[1] == 1:\n",
        "        transformed_labels = np.append(1 - transformed_labels,\n",
        "                                       transformed_labels, axis=1)\n",
        "\n",
        "    # Clipping\n",
        "    y_pred = np.clip(y_pred, eps, 1 - eps)\n",
        "\n",
        "    # If y_pred is of single dimension, assume y_true to be binary\n",
        "    # and then check.\n",
        "    if y_pred.ndim == 1:\n",
        "        y_pred = y_pred[:, np.newaxis]\n",
        "    if y_pred.shape[1] == 1:\n",
        "        y_pred = np.append(1 - y_pred, y_pred, axis=1)\n",
        "\n",
        "    # Check if dimensions are consistent.\n",
        "#    transformed_labels = check_array(transformed_labels)\n",
        "    if len(lb.classes_) != y_pred.shape[1]:\n",
        "        if labels is None:\n",
        "            raise ValueError(\"y_true and y_pred contain different number of \"\n",
        "                             \"classes {0}, {1}. Please provide the true \"\n",
        "                             \"labels explicitly through the labels argument. \"\n",
        "                             \"Classes found in \"\n",
        "                             \"y_true: {2}\".format(transformed_labels.shape[1],\n",
        "                                                  y_pred.shape[1],\n",
        "                                                  lb.classes_))\n",
        "        else:\n",
        "            raise ValueError('The number of classes in labels is different '\n",
        "                             'from that in y_pred. Classes found in '\n",
        "                             'labels: {0}'.format(lb.classes_))\n",
        "\n",
        "    # Renormalize\n",
        "    y_pred /= y_pred.sum(axis=1)[:, np.newaxis]\n",
        "    loss = -(transformed_labels * np.log(y_pred)).sum(axis=1)\n",
        "#    print(loss)\n",
        "\n",
        "    return loss\n",
        "\n",
        "\n",
        "def accuracy_score(y_true, y_pred):\n",
        "    \"\"\"\n",
        "    \n",
        "    This function computed the weighted aaverage accuarcy\n",
        "\n",
        "    \"\"\"\n",
        "    weights = compute_sample_weight('balanced',y_true)\n",
        "\n",
        "    return acc(y_true,y_pred,sample_weight=weights)\n",
        "\n",
        "def softmax(x):\n",
        "    \"\"\"Compute softmax values for each sets of scores in x.\"\"\"\n",
        "\n",
        "    e_x = np.exp(x - np.max(x))\n",
        "    return e_x / e_x.sum(axis=0)\n"
      ],
      "execution_count": 0,
      "outputs": []
    },
    {
      "cell_type": "markdown",
      "metadata": {
        "id": "P3oBtJeJtaKu",
        "colab_type": "text"
      },
      "source": [
        "**Data loading and splitting**"
      ]
    },
    {
      "cell_type": "code",
      "metadata": {
        "id": "GUXWybtEh_5c",
        "colab_type": "code",
        "outputId": "5f9c2885-356b-4cdf-d5d7-bd2144c0a0a8",
        "colab": {
          "base_uri": "https://localhost:8080/",
          "height": 51
        }
      },
      "source": [
        "X,y = load_digits(n_class=3,return_X_y=True)\n",
        "\n",
        "X_train,X_test,y_train,y_test = train_test_split(X,y,test_size=0.1,random_state=5,stratify=y)\n",
        "\n",
        "la  = OneHotEncoder(sparse=False).fit(y.reshape(-1,1))\n",
        "\n",
        "y_train = la.transform(y_train.reshape(-1,1))\n",
        "\n",
        "y_test = la.transform(y_test.reshape(-1,1))\n",
        "\n",
        "y_test[:2]"
      ],
      "execution_count": 4,
      "outputs": [
        {
          "output_type": "execute_result",
          "data": {
            "text/plain": [
              "array([[0., 0., 1.],\n",
              "       [1., 0., 0.]])"
            ]
          },
          "metadata": {
            "tags": []
          },
          "execution_count": 4
        }
      ]
    },
    {
      "cell_type": "markdown",
      "metadata": {
        "id": "CLTGoD8st3kb",
        "colab_type": "text"
      },
      "source": [
        "**Defining the quantum circuit**"
      ]
    },
    {
      "cell_type": "code",
      "metadata": {
        "id": "MQB5JG2nwWv5",
        "colab_type": "code",
        "colab": {}
      },
      "source": [
        "# initialize the device\n",
        "dev = qml.device(\"qulacs.simulator\", wires=7,shots=1000,analytic = True)\n",
        "\n",
        "@qml.qnode(dev)\n",
        "def qclassifier(weights, X=None):\n",
        "\n",
        "    qml.templates.AmplitudeEmbedding(X,wires=list(range(7)),pad=0.0,normalize=True)\n",
        "#    for i in range(weights.shape[0]):\n",
        " #     for j in range(weights.shape[1]):\n",
        "  #      qml.Rot(*weights[i][j],wires=j)\n",
        "   #   for x in range(cnots.shape[1]):\n",
        "    #    qml.CRX(*cnots[i][x],wires=[x,(x+1)%6])\n",
        "\n",
        "\n",
        "    qml.templates.StronglyEntanglingLayers(weights,wires=list(range(7)))\n",
        "              \n",
        "    return [qml.expval(qml.PauliZ(i)) for i in range(7)]"
      ],
      "execution_count": 0,
      "outputs": []
    },
    {
      "cell_type": "markdown",
      "metadata": {
        "id": "J_iLfovfugSB",
        "colab_type": "text"
      },
      "source": [
        "### **The Cost Function**\n",
        "This fucntion contains the main logic of the full network. it takes a batched input with the weights and first pass the the quantum weights into the quantum classifier.\n",
        "Then it adds the bias to the output from Qcircuit. After that, we apply the classical operations the relu and softmax as shown in the for loop below."
      ]
    },
    {
      "cell_type": "code",
      "metadata": {
        "id": "Qj-Ofcr1wbzn",
        "colab_type": "code",
        "colab": {}
      },
      "source": [
        "\n",
        "\n",
        "def cost(params, x, y):\n",
        "\n",
        "\n",
        "    # Compute prediction for each input in data batch\n",
        "    loss = []    \n",
        "    for i in range(len(x)):\n",
        "\n",
        "      out =  qclassifier(params[0],X=x[i])+params[1]              # quantum output\n",
        "      out = np.maximum(0,np.dot(params[2],out)+params[3])         # reul on the first layer\n",
        "      loss.append(softmax(np.dot(params[4],out)+params[5]))       # softmax on the second layer\n",
        "    loss = log_loss(y,np.array(loss),labels=y_train)              # compute loss\n",
        "\n",
        "    weights = compute_sample_weight('balanced',y)\n",
        "\n",
        "    # weighted average to compensate for imbalanced batches\n",
        "    s = 0\n",
        "    for x, y in zip(loss, weights):\n",
        "      s += x * y\n",
        "\n",
        "    return s/sum(weights)\n"
      ],
      "execution_count": 0,
      "outputs": []
    },
    {
      "cell_type": "code",
      "metadata": {
        "id": "vhKU7JDHz-z_",
        "colab_type": "code",
        "colab": {}
      },
      "source": [
        "\n",
        "# a helper function to predict the label of the image\n",
        "\n",
        "def predict(params,x,y):\n",
        "  prob = []\n",
        "  for i in range(len(x)):\n",
        "    out = qclassifier(params[0],X=x[i])+params[1]\n",
        "    out = np.maximum(0,np.dot(params[2],out)+params[3])\n",
        "    out = softmax(np.dot(params[4],out)+params[5])\n",
        "    prob.append(np.argmax(out))\n",
        "  return prob"
      ],
      "execution_count": 0,
      "outputs": []
    },
    {
      "cell_type": "markdown",
      "metadata": {
        "id": "EaJN4-KHvp5J",
        "colab_type": "text"
      },
      "source": [
        "### **Weights initialization**"
      ]
    },
    {
      "cell_type": "code",
      "metadata": {
        "id": "xsYDfcPmxvhA",
        "colab_type": "code",
        "outputId": "42bf00f7-4899-4eb8-dcf6-fb70df9d9013",
        "colab": {
          "base_uri": "https://localhost:8080/",
          "height": 1000
        }
      },
      "source": [
        "np.random.seed(88)\n",
        "# quantum parameters\n",
        "Qweights = qml.init.strong_ent_layers_uniform(n_layers=8,n_wires=7,low=0,high=1,seed=0)\n",
        "Qbias = np.random.uniform(low=-.1,high=.1,size=(7))*0\n",
        "# first layer parameters\n",
        "linear2_layer = np.random.randn(12,7)*0.01\n",
        "bias2_layer = np.random.randn(12)*0\n",
        "# second layer parameters\n",
        "linear3_layer = np.random.randn(3,12)*0.01\n",
        "bias3_layer = np.random.randn(3)*0\n",
        "\n",
        "params = [Qweights,Qbias,linear2_layer,bias2_layer,linear3_layer,bias3_layer]\n",
        "params"
      ],
      "execution_count": 12,
      "outputs": [
        {
          "output_type": "execute_result",
          "data": {
            "text/plain": [
              "[array([[[0.5488135 , 0.71518937, 0.60276338],\n",
              "         [0.54488318, 0.4236548 , 0.64589411],\n",
              "         [0.43758721, 0.891773  , 0.96366276],\n",
              "         [0.38344152, 0.79172504, 0.52889492],\n",
              "         [0.56804456, 0.92559664, 0.07103606],\n",
              "         [0.0871293 , 0.0202184 , 0.83261985],\n",
              "         [0.77815675, 0.87001215, 0.97861834]],\n",
              " \n",
              "        [[0.79915856, 0.46147936, 0.78052918],\n",
              "         [0.11827443, 0.63992102, 0.14335329],\n",
              "         [0.94466892, 0.52184832, 0.41466194],\n",
              "         [0.26455561, 0.77423369, 0.45615033],\n",
              "         [0.56843395, 0.0187898 , 0.6176355 ],\n",
              "         [0.61209572, 0.616934  , 0.94374808],\n",
              "         [0.6818203 , 0.3595079 , 0.43703195]],\n",
              " \n",
              "        [[0.6976312 , 0.06022547, 0.66676672],\n",
              "         [0.67063787, 0.21038256, 0.1289263 ],\n",
              "         [0.31542835, 0.36371077, 0.57019677],\n",
              "         [0.43860151, 0.98837384, 0.10204481],\n",
              "         [0.20887676, 0.16130952, 0.65310833],\n",
              "         [0.2532916 , 0.46631077, 0.24442559],\n",
              "         [0.15896958, 0.11037514, 0.65632959]],\n",
              " \n",
              "        [[0.13818295, 0.19658236, 0.36872517],\n",
              "         [0.82099323, 0.09710128, 0.83794491],\n",
              "         [0.09609841, 0.97645947, 0.4686512 ],\n",
              "         [0.97676109, 0.60484552, 0.73926358],\n",
              "         [0.03918779, 0.28280696, 0.12019656],\n",
              "         [0.2961402 , 0.11872772, 0.31798318],\n",
              "         [0.41426299, 0.0641475 , 0.69247212]],\n",
              " \n",
              "        [[0.56660145, 0.26538949, 0.52324805],\n",
              "         [0.09394051, 0.5759465 , 0.9292962 ],\n",
              "         [0.31856895, 0.66741038, 0.13179786],\n",
              "         [0.7163272 , 0.28940609, 0.18319136],\n",
              "         [0.58651293, 0.02010755, 0.82894003],\n",
              "         [0.00469548, 0.67781654, 0.27000797],\n",
              "         [0.73519402, 0.96218855, 0.24875314]],\n",
              " \n",
              "        [[0.57615733, 0.59204193, 0.57225191],\n",
              "         [0.22308163, 0.95274901, 0.44712538],\n",
              "         [0.84640867, 0.69947928, 0.29743695],\n",
              "         [0.81379782, 0.39650574, 0.8811032 ],\n",
              "         [0.58127287, 0.88173536, 0.69253159],\n",
              "         [0.72525428, 0.50132438, 0.95608363],\n",
              "         [0.6439902 , 0.42385505, 0.60639321]],\n",
              " \n",
              "        [[0.0191932 , 0.30157482, 0.66017354],\n",
              "         [0.29007761, 0.61801543, 0.4287687 ],\n",
              "         [0.13547406, 0.29828233, 0.56996491],\n",
              "         [0.59087276, 0.57432525, 0.65320082],\n",
              "         [0.65210327, 0.43141844, 0.8965466 ],\n",
              "         [0.36756187, 0.43586493, 0.89192336],\n",
              "         [0.80619399, 0.70388858, 0.10022689]],\n",
              " \n",
              "        [[0.91948261, 0.7142413 , 0.99884701],\n",
              "         [0.1494483 , 0.86812606, 0.16249293],\n",
              "         [0.61555956, 0.12381998, 0.84800823],\n",
              "         [0.80731896, 0.56910074, 0.4071833 ],\n",
              "         [0.069167  , 0.69742877, 0.45354268],\n",
              "         [0.7220556 , 0.86638233, 0.97552151],\n",
              "         [0.85580334, 0.01171408, 0.35997806]]]),\n",
              " array([ 0., -0.,  0., -0., -0., -0.,  0.]),\n",
              " array([[-0.00661104, -0.01180191,  0.00197643,  0.004139  ,  0.01197322,\n",
              "          0.01883354,  0.00714224],\n",
              "        [ 0.02284333,  0.01564103,  0.00611104, -0.00877363, -0.01621087,\n",
              "         -0.00581673, -0.00537834],\n",
              "        [-0.01556024, -0.00054465, -0.01811279, -0.00631175, -0.00928159,\n",
              "          0.01490722,  0.00195499],\n",
              "        [-0.00471604,  0.01812355, -0.02294137,  0.00651209, -0.01130496,\n",
              "         -0.00777347,  0.01115938],\n",
              "        [ 0.01339453, -0.01767434,  0.00424412,  0.01089309, -0.00384186,\n",
              "          0.00632201, -0.00549656],\n",
              "        [ 0.00521126,  0.0010835 ,  0.00261668, -0.00914755,  0.00858238,\n",
              "          0.00094334, -0.01485904],\n",
              "        [-0.01900584, -0.01137579, -0.01762039, -0.00288623,  0.01047982,\n",
              "          0.00249958,  0.00046904],\n",
              "        [-0.01032243,  0.00403186, -0.00684059,  0.01262322, -0.02005557,\n",
              "         -0.0033203 , -0.002961  ],\n",
              "        [-0.02218361, -0.00183503,  0.00392308,  0.00241635,  0.00103936,\n",
              "         -0.00829571,  0.00492759],\n",
              "        [ 0.00090113, -0.00997568, -0.00800038,  0.00207076,  0.00523463,\n",
              "         -0.00699395,  0.00913706],\n",
              "        [-0.00672785,  0.00133324,  0.00426896, -0.00012849, -0.00352248,\n",
              "          0.00819467,  0.00521988],\n",
              "        [ 0.0119726 , -0.00382486,  0.00691662,  0.00353885,  0.01047585,\n",
              "         -0.00423896, -0.03514768]]),\n",
              " array([-0.,  0.,  0., -0.,  0., -0., -0., -0., -0.,  0., -0., -0.]),\n",
              " array([[-0.00498073, -0.00362891,  0.0026396 , -0.00629642, -0.00472258,\n",
              "         -0.01513361,  0.01107625,  0.00176239, -0.00940354,  0.00929594,\n",
              "         -0.01062795, -0.00886406],\n",
              "        [ 0.01921347, -0.00459781, -0.01089034,  0.00984117, -0.01159206,\n",
              "         -0.00436537,  0.01009245,  0.0071339 , -0.00728058,  0.00839516,\n",
              "          0.01239021, -0.01784804],\n",
              "        [-0.00796186, -0.01400541, -0.00184351, -0.01391193,  0.0003626 ,\n",
              "         -0.00814406,  0.00697373, -0.01737429,  0.00115856,  0.00365651,\n",
              "         -0.00073923, -0.00493518]]),\n",
              " array([ 0.,  0., -0.])]"
            ]
          },
          "metadata": {
            "tags": []
          },
          "execution_count": 12
        }
      ]
    },
    {
      "cell_type": "markdown",
      "metadata": {
        "id": "nr1zKDZS1GSk",
        "colab_type": "text"
      },
      "source": [
        "**Load the saved weights**"
      ]
    },
    {
      "cell_type": "code",
      "metadata": {
        "id": "YI_HeP8S0MFp",
        "colab_type": "code",
        "colab": {}
      },
      "source": [
        "final_weights = np.load(\"/content/final-grads.npy\",allow_pickle=True)"
      ],
      "execution_count": 0,
      "outputs": []
    },
    {
      "cell_type": "markdown",
      "metadata": {
        "id": "IYcSUgwj1Nwt",
        "colab_type": "text"
      },
      "source": [
        "Convert the one hot encoding back to its original labels"
      ]
    },
    {
      "cell_type": "code",
      "metadata": {
        "id": "kHsC024gx-9T",
        "colab_type": "code",
        "colab": {}
      },
      "source": [
        "labels = la.inverse_transform(y_test)"
      ],
      "execution_count": 0,
      "outputs": []
    },
    {
      "cell_type": "code",
      "metadata": {
        "id": "cnvcAea0yCl2",
        "colab_type": "code",
        "colab": {}
      },
      "source": [
        "predictions=predict(final_weights,X_test,y_test)"
      ],
      "execution_count": 0,
      "outputs": []
    },
    {
      "cell_type": "code",
      "metadata": {
        "id": "wPmAA3dEWKE_",
        "colab_type": "code",
        "outputId": "489da741-da4b-4200-ee4c-3c4071778043",
        "colab": {
          "base_uri": "https://localhost:8080/",
          "height": 34
        }
      },
      "source": [
        "print(accuracy_score(labels,predictions))"
      ],
      "execution_count": 25,
      "outputs": [
        {
          "output_type": "execute_result",
          "data": {
            "text/plain": [
              "1.0"
            ]
          },
          "metadata": {
            "tags": []
          },
          "execution_count": 25
        }
      ]
    },
    {
      "cell_type": "code",
      "metadata": {
        "id": "ku33upXOKfNL",
        "colab_type": "code",
        "outputId": "b658ac18-9d06-43c5-eda3-5208e82a5440",
        "colab": {
          "base_uri": "https://localhost:8080/",
          "height": 187
        }
      },
      "source": [
        "from sklearn.metrics import classification_report\n",
        "\n",
        "print(classification_report(labels,predictions))"
      ],
      "execution_count": 27,
      "outputs": [
        {
          "output_type": "stream",
          "text": [
            "              precision    recall  f1-score   support\n",
            "\n",
            "           0       1.00      1.00      1.00        18\n",
            "           1       1.00      1.00      1.00        18\n",
            "           2       1.00      1.00      1.00        18\n",
            "\n",
            "    accuracy                           1.00        54\n",
            "   macro avg       1.00      1.00      1.00        54\n",
            "weighted avg       1.00      1.00      1.00        54\n",
            "\n"
          ],
          "name": "stdout"
        }
      ]
    },
    {
      "cell_type": "markdown",
      "metadata": {
        "id": "EmRiCcm11ECN",
        "colab_type": "text"
      },
      "source": [
        "### **Training procedure**\n",
        "you can run this cell and have fun with the training."
      ]
    },
    {
      "cell_type": "code",
      "metadata": {
        "id": "CokqgN3J1AdO",
        "colab_type": "code",
        "colab": {}
      },
      "source": [
        "from sklearn.utils import shuffle\n",
        "\n",
        "learning_rate = 0.12\n",
        "epochs = 1200\n",
        "batch_size = 32\n",
        "\n",
        "opt = AdamOptimizer(learning_rate) # classical adam optimizer\n",
        "opt.reset()\n",
        "loss = np.inf #random large number\n",
        "grads = []\n",
        "\n",
        "\n",
        "for it in range(epochs):\n",
        "    \n",
        "    # data shuffling\n",
        "    X_train_1,y_train_1 = shuffle(X_train,y_train)\n",
        "    X_test_1,y_test_1 = shuffle(X_test,y_test)\n",
        "\n",
        "    # batching the data, i.e. every epoch process batch_size samples only\n",
        "    Xbatch = X_train_1[:batch_size]\n",
        "    ybatch = y_train_1[:batch_size]\n",
        "\n",
        "    params = opt.step(lambda v: cost(v, Xbatch, ybatch), params)    # updating weights\n",
        "\n",
        "        \n",
        "    grads.append(params)\n",
        "        \n",
        "    if it % 1 == 0:\n",
        "\n",
        "      test_loss = cost(params, X_test_1[:50], y_test_1[:50])\n",
        "      if test_loss < loss:\n",
        "        loss = test_loss\n",
        "        print('heey new loss')\n",
        "      print(\"Iter: {:5d} | test loss: {:0.7f} \".format(it + 1, test_loss))"
      ],
      "execution_count": 0,
      "outputs": []
    }
  ]
}